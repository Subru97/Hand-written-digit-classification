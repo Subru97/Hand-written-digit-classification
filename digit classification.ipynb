{
 "cells": [
  {
   "cell_type": "markdown",
   "metadata": {},
   "source": [
    "# <center> MNist database classification<br> <small>Réda DEHAK<br> 1 July 2020</small> </center>\n",
    "\n",
    "The goal of this lab is :\n",
    "    - Evaluate your understanding of the course\n",
    "    - Try and make a comparison of different machine learning methods\n",
    "    \n",
    "This study is based on the <A href=http://yann.lecun.com/exdb/mnist/>MNist dataset</A>. It is handwritten digits dataset with a training set of 60000 samples, and a test set of 10000 samples. It is a subset of a larger set available from NIST. The digits have been size-normalized and centered in a fixed-size image."
   ]
  },
  {
   "cell_type": "markdown",
   "metadata": {},
   "source": [
    "## Questions:\n",
    "\n",
    "- propose three different approaches to classify the MNist dataset. Compare the performance of each method and suggest solutions to improve the performance of each one. You can use all methods that you learned or not during the MSc. The goal is to obtain the best performances measure.\n",
    "- Make a video of 5 minutes maximum to justify your choices and explain your results.\n",
    "- Download the notebook and video on Teams before July 21th."
   ]
  },
  {
   "cell_type": "markdown",
   "metadata": {},
   "source": [
    "### Load the dataset\n",
    "- MNist dataset is proposed in keras.datasets toolbox, you can use this code to load the dataset or use the function mnist_load_data provided in mnist.py file"
   ]
  },
  {
   "cell_type": "code",
   "execution_count": 21,
   "metadata": {},
   "outputs": [
    {
     "name": "stdout",
     "output_type": "stream",
     "text": [
      "train:  (60000, 28, 28)\n",
      "Test:  (10000, 28, 28)\n"
     ]
    }
   ],
   "source": [
    "from keras.datasets import mnist\n",
    "(Xtrain, ytrain), (Xtest, ytest) = mnist.load_data()\n",
    "\n",
    "#from mnist import mnist_load_data\n",
    "#(Xtrain, ytrain), (Xtest, ytest) = mnist_load_data()\n",
    "print('train: ', Xtrain.shape)\n",
    "print('Test: ', Xtest.shape)"
   ]
  },
  {
   "cell_type": "markdown",
   "metadata": {},
   "source": [
    "## First Method: Artificial Neural Networks\n",
    "\n",
    "...."
   ]
  },
  {
   "cell_type": "code",
   "execution_count": 10,
   "metadata": {},
   "outputs": [],
   "source": [
    "import keras\n",
    "from keras.models import Sequential\n",
    "from keras.layers import Dense, Dropout"
   ]
  },
  {
   "cell_type": "code",
   "execution_count": 23,
   "metadata": {},
   "outputs": [
    {
     "data": {
      "text/plain": [
       "((60000, 784), (10000, 784))"
      ]
     },
     "execution_count": 23,
     "metadata": {},
     "output_type": "execute_result"
    }
   ],
   "source": [
    "Xtrain_784 = Xtrain.copy()\n",
    "Xtest_784 = Xtest.copy()\n",
    "\n",
    "Xtrain_784 = Xtrain_784.reshape(((60000, -1)))\n",
    "Xtest_784 = Xtest_784.reshape(((10000, -1)))\n",
    "\n",
    "Xtrain_784 = Xtrain_784/255\n",
    "Xtest_784 = Xtest_784/255\n",
    "\n",
    "Xtrain_784.shape, Xtest_784.shape"
   ]
  },
  {
   "cell_type": "code",
   "execution_count": 30,
   "metadata": {},
   "outputs": [],
   "source": [
    "def create_ann_model():\n",
    "    ann_model = Sequential()\n",
    "    ann_model.add(Dense(512, activation='relu', input_shape=(784,)))\n",
    "    ann_model.add(Dropout(0.2))\n",
    "    ann_model.add(Dense(512, activation='relu'))\n",
    "    ann_model.add(Dropout(0.2))\n",
    "    ann_model.add(Dense(10, activation='softmax'))\n",
    "    return ann_model"
   ]
  },
  {
   "cell_type": "code",
   "execution_count": 31,
   "metadata": {},
   "outputs": [],
   "source": [
    "ann_clf = create_ann_model()"
   ]
  },
  {
   "cell_type": "code",
   "execution_count": 32,
   "metadata": {},
   "outputs": [
    {
     "name": "stdout",
     "output_type": "stream",
     "text": [
      "Model: \"sequential_4\"\n",
      "_________________________________________________________________\n",
      "Layer (type)                 Output Shape              Param #   \n",
      "=================================================================\n",
      "dense_8 (Dense)              (None, 512)               401920    \n",
      "_________________________________________________________________\n",
      "dropout_6 (Dropout)          (None, 512)               0         \n",
      "_________________________________________________________________\n",
      "dense_9 (Dense)              (None, 512)               262656    \n",
      "_________________________________________________________________\n",
      "dropout_7 (Dropout)          (None, 512)               0         \n",
      "_________________________________________________________________\n",
      "dense_10 (Dense)             (None, 10)                5130      \n",
      "=================================================================\n",
      "Total params: 669,706\n",
      "Trainable params: 669,706\n",
      "Non-trainable params: 0\n",
      "_________________________________________________________________\n"
     ]
    }
   ],
   "source": [
    "ann_clf.summary()"
   ]
  },
  {
   "cell_type": "code",
   "execution_count": 33,
   "metadata": {},
   "outputs": [],
   "source": [
    "ann_clf.compile(optimizer='adam', loss='sparse_categorical_crossentropy', metrics=['accuracy'])"
   ]
  },
  {
   "cell_type": "code",
   "execution_count": 34,
   "metadata": {},
   "outputs": [
    {
     "name": "stdout",
     "output_type": "stream",
     "text": [
      "Epoch 1/5\n",
      "60000/60000 [==============================] - 28s 459us/step - loss: 0.2137 - accuracy: 0.9341\n",
      "Epoch 2/5\n",
      "60000/60000 [==============================] - 26s 440us/step - loss: 0.1072 - accuracy: 0.9671\n",
      "Epoch 3/5\n",
      "60000/60000 [==============================] - 29s 491us/step - loss: 0.0814 - accuracy: 0.9746\n",
      "Epoch 4/5\n",
      "60000/60000 [==============================] - 29s 491us/step - loss: 0.0657 - accuracy: 0.9792\n",
      "Epoch 5/5\n",
      "60000/60000 [==============================] - 26s 432us/step - loss: 0.0579 - accuracy: 0.9818\n"
     ]
    },
    {
     "data": {
      "text/plain": [
       "<keras.callbacks.callbacks.History at 0x105c74e1b38>"
      ]
     },
     "execution_count": 34,
     "metadata": {},
     "output_type": "execute_result"
    }
   ],
   "source": [
    "ann_clf.fit(Xtrain_784, ytrain, epochs=5)"
   ]
  },
  {
   "cell_type": "code",
   "execution_count": 59,
   "metadata": {},
   "outputs": [
    {
     "name": "stdout",
     "output_type": "stream",
     "text": [
      "10000/10000 [==============================] - 1s 85us/step\n",
      "Test accuracy: 0.9807000160217285\n"
     ]
    }
   ],
   "source": [
    "ann_test_loss, ann_test_acc = ann_clf.evaluate(Xtest_784, ytest)\n",
    "\n",
    "print('Test accuracy:', ann_test_acc)"
   ]
  },
  {
   "cell_type": "code",
   "execution_count": 43,
   "metadata": {},
   "outputs": [],
   "source": [
    "ann_predictions = ann_clf.predict(Xtest_784)"
   ]
  },
  {
   "cell_type": "code",
   "execution_count": 44,
   "metadata": {},
   "outputs": [
    {
     "data": {
      "text/plain": [
       "array([7.7961574e-13, 1.8834490e-09, 4.3866343e-08, 8.4590070e-08,\n",
       "       4.1562459e-13, 5.3768538e-11, 3.0506760e-15, 9.9999917e-01,\n",
       "       4.8490134e-10, 7.2402491e-07], dtype=float32)"
      ]
     },
     "execution_count": 44,
     "metadata": {},
     "output_type": "execute_result"
    }
   ],
   "source": [
    "ann_predictions[0]"
   ]
  },
  {
   "cell_type": "code",
   "execution_count": 45,
   "metadata": {},
   "outputs": [
    {
     "data": {
      "text/plain": [
       "7"
      ]
     },
     "execution_count": 45,
     "metadata": {},
     "output_type": "execute_result"
    }
   ],
   "source": [
    "np.argmax(ann_predictions[0])"
   ]
  },
  {
   "cell_type": "code",
   "execution_count": 48,
   "metadata": {},
   "outputs": [
    {
     "data": {
      "image/png": "[encoded data removed]",
      "text/plain": [
       "<Figure size 432x288 with 2 Axes>"
      ]
     },
     "metadata": {
      "needs_background": "light"
     },
     "output_type": "display_data"
    }
   ],
   "source": [
    "plt.figure()\n",
    "plt.imshow(Xtest[0])\n",
    "plt.colorbar()\n",
    "plt.grid(False)\n",
    "plt.show()"
   ]
  },
  {
   "cell_type": "code",
   "execution_count": 127,
   "metadata": {},
   "outputs": [
    {
     "data": {
      "text/plain": [
       "array([[ 970,    1,    3,    0,    1,    0,    2,    1,    2,    0],\n",
       "       [   0, 1114,    3,    1,    0,    0,    4,    0,   13,    0],\n",
       "       [   1,    0, 1015,    2,    3,    0,    4,    2,    5,    0],\n",
       "       [   0,    0,    9,  990,    0,    1,    0,    3,    3,    4],\n",
       "       [   2,    0,    2,    0,  958,    0,    3,    0,    0,   17],\n",
       "       [   1,    1,    1,    6,    1,  867,    4,    0,    9,    2],\n",
       "       [   1,    2,    0,    1,    7,    2,  941,    0,    4,    0],\n",
       "       [   0,    3,    5,    6,    0,    0,    0, 1003,    5,    6],\n",
       "       [   1,    0,    6,    1,    3,    0,    0,    2,  959,    2],\n",
       "       [   2,    2,    1,    4,    3,    1,    0,    2,    4,  990]],\n",
       "      dtype=int64)"
      ]
     },
     "execution_count": 127,
     "metadata": {},
     "output_type": "execute_result"
    }
   ],
   "source": [
    "import numpy as np\n",
    "from sklearn.metrics import confusion_matrix\n",
    "ann_ypred = np.argmax(ann_predictions, axis=1)\n",
    "confusion_matrix(ytest, ann_ypred)"
   ]
  },
  {
   "cell_type": "markdown",
   "metadata": {},
   "source": [
    "## Second Method: Convolutional Neural Networks\n",
    "\n",
    "...."
   ]
  },
  {
   "cell_type": "code",
   "execution_count": 52,
   "metadata": {},
   "outputs": [
    {
     "data": {
      "text/plain": [
       "((60000, 28, 28, 1), (10000, 28, 28, 1))"
      ]
     },
     "execution_count": 52,
     "metadata": {},
     "output_type": "execute_result"
    }
   ],
   "source": [
    "Xtrain_28 = Xtrain.copy()\n",
    "Xtest_28 = Xtest.copy()\n",
    "\n",
    "Xtrain_28 = Xtrain_28.reshape(60000, 28, 28, 1)\n",
    "Xtest_28 = Xtest_28.reshape(10000, 28, 28, 1)\n",
    "\n",
    "Xtrain_28 = Xtrain_28/255\n",
    "Xtest_28 = Xtest_28/255\n",
    "\n",
    "Xtrain_28.shape, Xtest_28.shape"
   ]
  },
  {
   "cell_type": "code",
   "execution_count": 53,
   "metadata": {},
   "outputs": [],
   "source": [
    "def create_cnn_model():\n",
    "    cnn_model = Sequential()\n",
    "    cnn_model.add(Conv2D(30, (5, 5), input_shape=(28, 28, 1), activation='relu')) \n",
    "    cnn_model.add(MaxPooling2D(pool_size=(2, 2)))\n",
    "    cnn_model.add(Conv2D(15, (3, 3), activation='relu'))\n",
    "    cnn_model.add(MaxPooling2D(pool_size=(2, 2)))\n",
    "    cnn_model.add(Flatten())\n",
    "\n",
    "    cnn_model.add(Dense(500, activation='relu', name='my_dense'))\n",
    "    cnn_model.add(Dropout(0.5))\n",
    "    cnn_model.add(Dense(10, activation='softmax'))\n",
    "    return cnn_model"
   ]
  },
  {
   "cell_type": "code",
   "execution_count": 54,
   "metadata": {},
   "outputs": [],
   "source": [
    "cnn_clf = create_cnn_model()"
   ]
  },
  {
   "cell_type": "code",
   "execution_count": 56,
   "metadata": {},
   "outputs": [
    {
     "name": "stdout",
     "output_type": "stream",
     "text": [
      "Model: \"sequential_6\"\n",
      "_________________________________________________________________\n",
      "Layer (type)                 Output Shape              Param #   \n",
      "=================================================================\n",
      "conv2d_4 (Conv2D)            (None, 24, 24, 30)        780       \n",
      "_________________________________________________________________\n",
      "max_pooling2d_3 (MaxPooling2 (None, 12, 12, 30)        0         \n",
      "_________________________________________________________________\n",
      "conv2d_5 (Conv2D)            (None, 10, 10, 15)        4065      \n",
      "_________________________________________________________________\n",
      "max_pooling2d_4 (MaxPooling2 (None, 5, 5, 15)          0         \n",
      "_________________________________________________________________\n",
      "flatten_2 (Flatten)          (None, 375)               0         \n",
      "_________________________________________________________________\n",
      "my_dense (Dense)             (None, 500)               188000    \n",
      "_________________________________________________________________\n",
      "dropout_8 (Dropout)          (None, 500)               0         \n",
      "_________________________________________________________________\n",
      "dense_11 (Dense)             (None, 10)                5010      \n",
      "=================================================================\n",
      "Total params: 197,855\n",
      "Trainable params: 197,855\n",
      "Non-trainable params: 0\n",
      "_________________________________________________________________\n"
     ]
    }
   ],
   "source": [
    "cnn_clf.summary()"
   ]
  },
  {
   "cell_type": "code",
   "execution_count": 55,
   "metadata": {},
   "outputs": [],
   "source": [
    "cnn_clf.compile(optimizer='adam', loss='sparse_categorical_crossentropy', metrics=['accuracy'])"
   ]
  },
  {
   "cell_type": "code",
   "execution_count": 58,
   "metadata": {},
   "outputs": [
    {
     "name": "stdout",
     "output_type": "stream",
     "text": [
      "Train on 54000 samples, validate on 6000 samples\n",
      "Epoch 1/10\n",
      "54000/54000 [==============================] - 27s 501us/step - loss: 0.3344 - accuracy: 0.8973 - val_loss: 0.0772 - val_accuracy: 0.9787\n",
      "Epoch 2/10\n",
      "54000/54000 [==============================] - 26s 484us/step - loss: 0.0905 - accuracy: 0.9723 - val_loss: 0.0518 - val_accuracy: 0.9860\n",
      "Epoch 3/10\n",
      "54000/54000 [==============================] - 26s 477us/step - loss: 0.0664 - accuracy: 0.9792 - val_loss: 0.0418 - val_accuracy: 0.9877\n",
      "Epoch 4/10\n",
      "54000/54000 [==============================] - 25s 465us/step - loss: 0.0516 - accuracy: 0.9833 - val_loss: 0.0417 - val_accuracy: 0.9885\n",
      "Epoch 5/10\n",
      "54000/54000 [==============================] - 25s 471us/step - loss: 0.0467 - accuracy: 0.9854 - val_loss: 0.0360 - val_accuracy: 0.9892\n",
      "Epoch 6/10\n",
      "54000/54000 [==============================] - 26s 477us/step - loss: 0.0397 - accuracy: 0.9876 - val_loss: 0.0362 - val_accuracy: 0.9905\n",
      "Epoch 7/10\n",
      "54000/54000 [==============================] - 25s 471us/step - loss: 0.0338 - accuracy: 0.9895 - val_loss: 0.0389 - val_accuracy: 0.9895\n",
      "Epoch 8/10\n",
      "54000/54000 [==============================] - 25s 469us/step - loss: 0.0312 - accuracy: 0.9899 - val_loss: 0.0374 - val_accuracy: 0.9910\n",
      "Epoch 9/10\n",
      "54000/54000 [==============================] - 24s 448us/step - loss: 0.0280 - accuracy: 0.9913 - val_loss: 0.0335 - val_accuracy: 0.9910\n",
      "Epoch 10/10\n",
      "54000/54000 [==============================] - 24s 437us/step - loss: 0.0250 - accuracy: 0.9918 - val_loss: 0.0312 - val_accuracy: 0.9922\n"
     ]
    },
    {
     "data": {
      "text/plain": [
       "<keras.callbacks.callbacks.History at 0x105cc623fd0>"
      ]
     },
     "execution_count": 58,
     "metadata": {},
     "output_type": "execute_result"
    }
   ],
   "source": [
    "cnn_clf.fit(Xtrain_28, ytrain, validation_split=0.1, epochs=10, batch_size = 200, verbose = 1, shuffle = 1)"
   ]
  },
  {
   "cell_type": "code",
   "execution_count": 60,
   "metadata": {},
   "outputs": [
    {
     "name": "stdout",
     "output_type": "stream",
     "text": [
      "10000/10000 [==============================] - 2s 183us/step\n",
      "Test accuracy: 0.9930999875068665\n"
     ]
    }
   ],
   "source": [
    "cnn_test_loss, cnn_test_acc = cnn_clf.evaluate(Xtest_28, ytest)\n",
    "\n",
    "print('Test accuracy:', cnn_test_acc)"
   ]
  },
  {
   "cell_type": "code",
   "execution_count": 61,
   "metadata": {},
   "outputs": [],
   "source": [
    "cnn_predictions = cnn_clf.predict(Xtest_28)"
   ]
  },
  {
   "cell_type": "code",
   "execution_count": 62,
   "metadata": {},
   "outputs": [
    {
     "data": {
      "text/plain": [
       "array([1.4361383e-11, 3.3114276e-09, 2.0160522e-08, 1.6496585e-06,\n",
       "       1.1466830e-11, 4.8768132e-11, 2.0437378e-16, 9.9999821e-01,\n",
       "       3.1392897e-09, 8.8832188e-08], dtype=float32)"
      ]
     },
     "execution_count": 62,
     "metadata": {},
     "output_type": "execute_result"
    }
   ],
   "source": [
    "cnn_predictions[0]"
   ]
  },
  {
   "cell_type": "code",
   "execution_count": 63,
   "metadata": {},
   "outputs": [
    {
     "data": {
      "text/plain": [
       "7"
      ]
     },
     "execution_count": 63,
     "metadata": {},
     "output_type": "execute_result"
    }
   ],
   "source": [
    "np.argmax(cnn_predictions[0])"
   ]
  },
  {
   "cell_type": "code",
   "execution_count": 64,
   "metadata": {},
   "outputs": [
    {
     "data": {
      "image/png": "[encoded data removed]",
      "text/plain": [
       "<Figure size 432x288 with 2 Axes>"
      ]
     },
     "metadata": {
      "needs_background": "light"
     },
     "output_type": "display_data"
    }
   ],
   "source": [
    "plt.figure()\n",
    "plt.imshow(Xtest[0])\n",
    "plt.colorbar()\n",
    "plt.grid(False)\n",
    "plt.show()"
   ]
  },
  {
   "cell_type": "code",
   "execution_count": 128,
   "metadata": {},
   "outputs": [
    {
     "data": {
      "text/plain": [
       "array([[ 977,    0,    0,    0,    0,    0,    2,    1,    0,    0],\n",
       "       [   0, 1130,    1,    0,    0,    2,    1,    0,    1,    0],\n",
       "       [   0,    1, 1026,    0,    0,    0,    1,    3,    1,    0],\n",
       "       [   0,    0,    1, 1004,    0,    2,    0,    1,    2,    0],\n",
       "       [   0,    0,    0,    0,  978,    0,    2,    0,    0,    2],\n",
       "       [   1,    0,    0,    7,    0,  883,    1,    0,    0,    0],\n",
       "       [   2,    2,    0,    0,    1,    4,  948,    0,    1,    0],\n",
       "       [   0,    2,    2,    0,    0,    0,    0, 1022,    1,    1],\n",
       "       [   1,    0,    3,    2,    0,    0,    0,    1,  967,    0],\n",
       "       [   0,    0,    0,    0,    8,    2,    0,    3,    0,  996]],\n",
       "      dtype=int64)"
      ]
     },
     "execution_count": 128,
     "metadata": {},
     "output_type": "execute_result"
    }
   ],
   "source": [
    "cnn_ypred = np.argmax(cnn_predictions, axis=1)\n",
    "confusion_matrix(ytest, cnn_ypred)"
   ]
  },
  {
   "cell_type": "markdown",
   "metadata": {},
   "source": [
    "## Third Method: XGBoost\n",
    "\n",
    "...."
   ]
  },
  {
   "cell_type": "code",
   "execution_count": 103,
   "metadata": {},
   "outputs": [],
   "source": [
    "from xgboost import XGBClassifier\n",
    "\n",
    "xgb_clf = XGBClassifier(objective='multi:softprob', num_class= 10)"
   ]
  },
  {
   "cell_type": "code",
   "execution_count": 106,
   "metadata": {},
   "outputs": [
    {
     "data": {
      "text/plain": [
       "XGBClassifier(base_score=0.5, booster='gbtree', colsample_bylevel=1,\n",
       "              colsample_bynode=1, colsample_bytree=1, gamma=0, gpu_id=-1,\n",
       "              importance_type='gain', interaction_constraints='',\n",
       "              learning_rate=0.300000012, max_delta_step=0, max_depth=6,\n",
       "              min_child_weight=1, missing=nan, monotone_constraints='()',\n",
       "              n_estimators=100, n_jobs=0, num_class=10, num_parallel_tree=1,\n",
       "              objective='multi:softprob', random_state=0, reg_alpha=0,\n",
       "              reg_lambda=1, scale_pos_weight=None, subsample=1,\n",
       "              tree_method='exact', validate_parameters=1, verbosity=None)"
      ]
     },
     "execution_count": 106,
     "metadata": {},
     "output_type": "execute_result"
    }
   ],
   "source": [
    "xgb_clf.fit(Xtrain_784, ytrain)"
   ]
  },
  {
   "cell_type": "code",
   "execution_count": 107,
   "metadata": {},
   "outputs": [
    {
     "data": {
      "text/plain": [
       "0.978"
      ]
     },
     "execution_count": 107,
     "metadata": {},
     "output_type": "execute_result"
    }
   ],
   "source": [
    "xgb_clf.score(Xtest_784, ytest)"
   ]
  },
  {
   "cell_type": "code",
   "execution_count": 108,
   "metadata": {},
   "outputs": [],
   "source": [
    "xgb_clf_predictions = xgb_clf.predict(Xtest_784)"
   ]
  },
  {
   "cell_type": "code",
   "execution_count": 115,
   "metadata": {},
   "outputs": [
    {
     "data": {
      "text/plain": [
       "array([7, 2, 1, 0, 4], dtype=uint8)"
      ]
     },
     "execution_count": 115,
     "metadata": {},
     "output_type": "execute_result"
    }
   ],
   "source": [
    "xgb_clf_predictions[0:5]"
   ]
  },
  {
   "cell_type": "code",
   "execution_count": 129,
   "metadata": {},
   "outputs": [
    {
     "data": {
      "text/plain": [
       "array([[ 969,    1,    0,    0,    0,    3,    4,    1,    2,    0],\n",
       "       [   1, 1124,    2,    3,    0,    1,    3,    1,    0,    0],\n",
       "       [   5,    0, 1006,    9,    1,    0,    0,    5,    5,    1],\n",
       "       [   0,    0,    2,  992,    0,    3,    0,    6,    4,    3],\n",
       "       [   0,    0,    3,    0,  957,    0,    4,    1,    2,   15],\n",
       "       [   2,    0,    1,    5,    0,  869,    6,    3,    4,    2],\n",
       "       [   7,    3,    0,    0,    2,    3,  939,    0,    4,    0],\n",
       "       [   1,    1,   14,    3,    2,    0,    0,  998,    2,    7],\n",
       "       [   4,    1,    3,    2,    3,    3,    2,    2,  948,    6],\n",
       "       [   6,    5,    1,    5,    7,    1,    0,    3,    3,  978]],\n",
       "      dtype=int64)"
      ]
     },
     "execution_count": 129,
     "metadata": {},
     "output_type": "execute_result"
    }
   ],
   "source": [
    "confusion_matrix(ytest, xgb_clf_predictions)"
   ]
  },
  {
   "cell_type": "markdown",
   "metadata": {},
   "source": [
    "## Fourth Method: Hybrid Model - CNN + XGBoost\n",
    "\n",
    "...."
   ]
  },
  {
   "cell_type": "code",
   "execution_count": 67,
   "metadata": {},
   "outputs": [],
   "source": [
    "import pandas as pd"
   ]
  },
  {
   "cell_type": "code",
   "execution_count": 66,
   "metadata": {},
   "outputs": [
    {
     "name": "stdout",
     "output_type": "stream",
     "text": [
      "Model: \"model_1\"\n",
      "_________________________________________________________________\n",
      "Layer (type)                 Output Shape              Param #   \n",
      "=================================================================\n",
      "conv2d_4_input (InputLayer)  (None, 28, 28, 1)         0         \n",
      "_________________________________________________________________\n",
      "conv2d_4 (Conv2D)            (None, 24, 24, 30)        780       \n",
      "_________________________________________________________________\n",
      "max_pooling2d_3 (MaxPooling2 (None, 12, 12, 30)        0         \n",
      "_________________________________________________________________\n",
      "conv2d_5 (Conv2D)            (None, 10, 10, 15)        4065      \n",
      "_________________________________________________________________\n",
      "max_pooling2d_4 (MaxPooling2 (None, 5, 5, 15)          0         \n",
      "_________________________________________________________________\n",
      "flatten_2 (Flatten)          (None, 375)               0         \n",
      "_________________________________________________________________\n",
      "my_dense (Dense)             (None, 500)               188000    \n",
      "=================================================================\n",
      "Total params: 192,845\n",
      "Trainable params: 192,845\n",
      "Non-trainable params: 0\n",
      "_________________________________________________________________\n"
     ]
    }
   ],
   "source": [
    "from keras.models import Model\n",
    "layer_name='my_dense'\n",
    "intermediate_layer_model = Model(inputs=cnn_clf.input, outputs=cnn_clf.get_layer(layer_name).output)\n",
    "intermediate_layer_model.summary()"
   ]
  },
  {
   "cell_type": "code",
   "execution_count": 73,
   "metadata": {},
   "outputs": [],
   "source": [
    "intermediate_output = intermediate_layer_model.predict(Xtrain_28) \n",
    "intermediate_output = pd.DataFrame(data=intermediate_output)"
   ]
  },
  {
   "cell_type": "code",
   "execution_count": 74,
   "metadata": {},
   "outputs": [],
   "source": [
    "intermediate_test_output = intermediate_layer_model.predict(Xtest_28)\n",
    "intermediate_test_output = pd.DataFrame(data=intermediate_test_output)"
   ]
  },
  {
   "cell_type": "code",
   "execution_count": 75,
   "metadata": {},
   "outputs": [],
   "source": [
    "from xgboost import XGBClassifier\n",
    "\n",
    "xgbmodel = XGBClassifier(objective='multi:softprob', num_class= 10)"
   ]
  },
  {
   "cell_type": "code",
   "execution_count": 76,
   "metadata": {},
   "outputs": [
    {
     "data": {
      "text/plain": [
       "XGBClassifier(base_score=0.5, booster='gbtree', colsample_bylevel=1,\n",
       "              colsample_bynode=1, colsample_bytree=1, gamma=0, gpu_id=-1,\n",
       "              importance_type='gain', interaction_constraints='',\n",
       "              learning_rate=0.300000012, max_delta_step=0, max_depth=6,\n",
       "              min_child_weight=1, missing=nan, monotone_constraints='()',\n",
       "              n_estimators=100, n_jobs=0, num_class=10, num_parallel_tree=1,\n",
       "              objective='multi:softprob', random_state=0, reg_alpha=0,\n",
       "              reg_lambda=1, scale_pos_weight=None, subsample=1,\n",
       "              tree_method='exact', validate_parameters=1, verbosity=None)"
      ]
     },
     "execution_count": 76,
     "metadata": {},
     "output_type": "execute_result"
    }
   ],
   "source": [
    "xgbmodel.fit(intermediate_output, ytrain)"
   ]
  },
  {
   "cell_type": "code",
   "execution_count": 77,
   "metadata": {},
   "outputs": [
    {
     "data": {
      "text/plain": [
       "0.9916"
      ]
     },
     "execution_count": 77,
     "metadata": {},
     "output_type": "execute_result"
    }
   ],
   "source": [
    "xgbmodel.score(intermediate_test_output, ytest)"
   ]
  },
  {
   "cell_type": "code",
   "execution_count": 78,
   "metadata": {},
   "outputs": [],
   "source": [
    "xgb_predictions = xgbmodel.predict(intermediate_test_output)"
   ]
  },
  {
   "cell_type": "code",
   "execution_count": 84,
   "metadata": {},
   "outputs": [
    {
     "data": {
      "text/plain": [
       "array([7, 2, 1, 0, 4], dtype=uint8)"
      ]
     },
     "execution_count": 84,
     "metadata": {},
     "output_type": "execute_result"
    }
   ],
   "source": [
    "xgb_predictions[0:5]"
   ]
  },
  {
   "cell_type": "code",
   "execution_count": 130,
   "metadata": {},
   "outputs": [
    {
     "data": {
      "text/plain": [
       "array([[ 978,    0,    0,    0,    0,    0,    0,    1,    1,    0],\n",
       "       [   0, 1130,    1,    0,    0,    1,    1,    0,    2,    0],\n",
       "       [   1,    0, 1024,    0,    1,    0,    0,    3,    2,    1],\n",
       "       [   0,    0,    2, 1004,    0,    2,    0,    1,    1,    0],\n",
       "       [   0,    0,    1,    0,  974,    0,    3,    1,    0,    3],\n",
       "       [   0,    0,    0,    6,    0,  885,    1,    0,    0,    0],\n",
       "       [   4,    3,    0,    0,    1,    5,  944,    0,    1,    0],\n",
       "       [   0,    3,    4,    0,    0,    0,    0, 1018,    1,    2],\n",
       "       [   3,    0,    3,    2,    0,    0,    0,    1,  963,    2],\n",
       "       [   0,    1,    0,    1,    5,    1,    0,    2,    3,  996]],\n",
       "      dtype=int64)"
      ]
     },
     "execution_count": 130,
     "metadata": {},
     "output_type": "execute_result"
    }
   ],
   "source": [
    "confusion_matrix(ytest, xgb_predictions)"
   ]
  },
  {
   "cell_type": "markdown",
   "metadata": {},
   "source": [
    "## Fifth Method: Ensemble learning (SVM, GNB, Random Forest)\n",
    "\n",
    "...."
   ]
  },
  {
   "cell_type": "code",
   "execution_count": 110,
   "metadata": {},
   "outputs": [],
   "source": [
    "from sklearn.ensemble import RandomForestClassifier, VotingClassifier\n",
    "from sklearn.naive_bayes import GaussianNB\n",
    "from sklearn.svm import SVC"
   ]
  },
  {
   "cell_type": "code",
   "execution_count": 111,
   "metadata": {},
   "outputs": [],
   "source": [
    "random_forest = RandomForestClassifier(n_estimators=50, random_state=1)\n",
    "nb = GaussianNB()\n",
    "svm = SVC(probability=True, random_state=1)"
   ]
  },
  {
   "cell_type": "code",
   "execution_count": 112,
   "metadata": {},
   "outputs": [],
   "source": [
    "vc_hard_clf = VotingClassifier(estimators=[('svm', svm), ('gnb', nb), ('RandomForestClassifier', random_forest)], voting='hard')"
   ]
  },
  {
   "cell_type": "code",
   "execution_count": 113,
   "metadata": {},
   "outputs": [],
   "source": [
    "vc_hard_clf = vc_hard_clf.fit(Xtrain_784, ytrain)"
   ]
  },
  {
   "cell_type": "code",
   "execution_count": 114,
   "metadata": {
    "scrolled": true
   },
   "outputs": [
    {
     "data": {
      "text/plain": [
       "0.9706"
      ]
     },
     "execution_count": 114,
     "metadata": {},
     "output_type": "execute_result"
    }
   ],
   "source": [
    "vc_hard_clf.score(Xtest_784, ytest)"
   ]
  },
  {
   "cell_type": "code",
   "execution_count": 131,
   "metadata": {},
   "outputs": [],
   "source": [
    "hard_clf_ypred = vc_hard_clf.predict(Xtest_784)"
   ]
  },
  {
   "cell_type": "code",
   "execution_count": 132,
   "metadata": {},
   "outputs": [
    {
     "data": {
      "text/plain": [
       "array([[ 970,    0,    0,    0,    0,    2,    3,    1,    3,    1],\n",
       "       [   0, 1126,    3,    1,    0,    1,    2,    0,    2,    0],\n",
       "       [   9,    2,  999,    3,    1,    0,    3,    8,    7,    0],\n",
       "       [   0,    1,    7,  984,    0,    3,    0,    5,    5,    5],\n",
       "       [   2,    1,    3,    0,  952,    0,    5,    0,    2,   17],\n",
       "       [   7,    1,    0,   12,    5,  855,    4,    1,    5,    2],\n",
       "       [   7,    2,    0,    0,    3,    4,  941,    0,    1,    0],\n",
       "       [   1,    9,   17,    3,    0,    0,    0,  977,    5,   16],\n",
       "       [   6,    0,    3,    7,    7,    2,    2,    4,  934,    9],\n",
       "       [   6,    6,    1,    8,    9,    2,    1,    1,    7,  968]],\n",
       "      dtype=int64)"
      ]
     },
     "execution_count": 132,
     "metadata": {},
     "output_type": "execute_result"
    }
   ],
   "source": [
    "confusion_matrix(ytest, hard_clf_ypred)"
   ]
  },
  {
   "cell_type": "code",
   "execution_count": 116,
   "metadata": {},
   "outputs": [],
   "source": [
    "vc_soft_clf = VotingClassifier(estimators=[('svm', svm), ('gnb', nb), ('RandomForestClassifier', random_forest)], voting='soft')"
   ]
  },
  {
   "cell_type": "code",
   "execution_count": 117,
   "metadata": {},
   "outputs": [],
   "source": [
    "vc_soft_clf = vc_soft_clf.fit(Xtrain_784, ytrain)"
   ]
  },
  {
   "cell_type": "code",
   "execution_count": 118,
   "metadata": {},
   "outputs": [
    {
     "data": {
      "text/plain": [
       "0.9625"
      ]
     },
     "execution_count": 118,
     "metadata": {},
     "output_type": "execute_result"
    }
   ],
   "source": [
    "vc_soft_clf.score(Xtest_784, ytest)"
   ]
  },
  {
   "cell_type": "code",
   "execution_count": 133,
   "metadata": {
    "scrolled": true
   },
   "outputs": [],
   "source": [
    "soft_clf_ypred = vc_soft_clf.predict(Xtest_784)"
   ]
  },
  {
   "cell_type": "code",
   "execution_count": 134,
   "metadata": {},
   "outputs": [
    {
     "data": {
      "text/plain": [
       "array([[ 966,    0,    0,    0,    1,    0,    5,    1,    5,    2],\n",
       "       [   0, 1124,    1,    2,    0,    1,    4,    0,    2,    1],\n",
       "       [  11,    2,  982,    4,    0,    0,    3,    7,   17,    6],\n",
       "       [   0,    2,    2,  971,    0,    3,    0,    7,   13,   12],\n",
       "       [   1,    1,    0,    0,  928,    0,    9,    0,    7,   36],\n",
       "       [   8,    3,    1,    7,    1,  845,    6,    0,   12,    9],\n",
       "       [   9,    2,    1,    0,    2,    2,  933,    0,    8,    1],\n",
       "       [   0,    8,    7,    4,    1,    0,    1,  968,    9,   30],\n",
       "       [   7,    0,    1,    3,    0,    2,    7,    3,  933,   18],\n",
       "       [   5,    6,    2,    6,    4,    0,    0,    2,    9,  975]],\n",
       "      dtype=int64)"
      ]
     },
     "execution_count": 134,
     "metadata": {},
     "output_type": "execute_result"
    }
   ],
   "source": [
    "confusion_matrix(ytest, soft_clf_ypred)"
   ]
  },
  {
   "cell_type": "markdown",
   "metadata": {},
   "source": [
    "## Sixth Method: Hybrid Ensemble Learning - CNN + Ensemble learning (SVM, GNB, Random Forest)\n",
    "\n",
    "...."
   ]
  },
  {
   "cell_type": "code",
   "execution_count": 87,
   "metadata": {},
   "outputs": [],
   "source": [
    "from sklearn.ensemble import RandomForestClassifier, VotingClassifier\n",
    "from sklearn.naive_bayes import GaussianNB\n",
    "from sklearn.svm import SVC"
   ]
  },
  {
   "cell_type": "code",
   "execution_count": 88,
   "metadata": {},
   "outputs": [],
   "source": [
    "random_forest_clf = RandomForestClassifier(n_estimators=50, random_state=1)\n",
    "nb_clf = GaussianNB()\n",
    "svm_clf = SVC(probability=True, random_state=1)"
   ]
  },
  {
   "cell_type": "code",
   "execution_count": 95,
   "metadata": {},
   "outputs": [],
   "source": [
    "vc_hard = VotingClassifier(estimators=[('svm', svm_clf), ('gnb', nb_clf), ('RandomForestClassifier', random_forest_clf)], voting='hard')"
   ]
  },
  {
   "cell_type": "code",
   "execution_count": 96,
   "metadata": {},
   "outputs": [],
   "source": [
    "vc_hard = vc_hard.fit(intermediate_output, ytrain)"
   ]
  },
  {
   "cell_type": "code",
   "execution_count": 97,
   "metadata": {},
   "outputs": [
    {
     "data": {
      "text/plain": [
       "0.9924"
      ]
     },
     "execution_count": 97,
     "metadata": {},
     "output_type": "execute_result"
    }
   ],
   "source": [
    "vc_hard.score(intermediate_test_output, ytest)"
   ]
  },
  {
   "cell_type": "code",
   "execution_count": 135,
   "metadata": {},
   "outputs": [],
   "source": [
    "hard_ypred = vc_hard.predict(intermediate_test_output)"
   ]
  },
  {
   "cell_type": "code",
   "execution_count": 136,
   "metadata": {},
   "outputs": [
    {
     "data": {
      "text/plain": [
       "array([[ 977,    0,    0,    0,    0,    0,    1,    1,    1,    0],\n",
       "       [   0, 1132,    1,    0,    0,    0,    1,    0,    1,    0],\n",
       "       [   0,    1, 1027,    0,    0,    0,    0,    3,    1,    0],\n",
       "       [   0,    0,    2, 1003,    0,    2,    0,    1,    2,    0],\n",
       "       [   0,    0,    1,    0,  975,    0,    2,    0,    0,    4],\n",
       "       [   1,    0,    0,    4,    0,  886,    1,    0,    0,    0],\n",
       "       [   2,    3,    0,    0,    1,    3,  949,    0,    0,    0],\n",
       "       [   0,    3,    4,    0,    0,    0,    0, 1020,    1,    0],\n",
       "       [   1,    0,    2,    2,    1,    0,    0,    1,  964,    3],\n",
       "       [   3,    1,    0,    1,    6,    3,    0,    4,    0,  991]],\n",
       "      dtype=int64)"
      ]
     },
     "execution_count": 136,
     "metadata": {},
     "output_type": "execute_result"
    }
   ],
   "source": [
    "confusion_matrix(ytest, hard_ypred)"
   ]
  },
  {
   "cell_type": "code",
   "execution_count": 99,
   "metadata": {},
   "outputs": [],
   "source": [
    "vc_soft = VotingClassifier(estimators=[('svm', svm_clf), ('gnb', nb_clf), ('RandomForestClassifier', random_forest_clf)], voting='soft')"
   ]
  },
  {
   "cell_type": "code",
   "execution_count": 100,
   "metadata": {},
   "outputs": [],
   "source": [
    "vc_soft = vc_soft.fit(intermediate_output, ytrain)"
   ]
  },
  {
   "cell_type": "code",
   "execution_count": 101,
   "metadata": {},
   "outputs": [
    {
     "data": {
      "text/plain": [
       "0.9904"
      ]
     },
     "execution_count": 101,
     "metadata": {},
     "output_type": "execute_result"
    }
   ],
   "source": [
    "vc_soft.score(intermediate_test_output, ytest)"
   ]
  },
  {
   "cell_type": "code",
   "execution_count": 137,
   "metadata": {},
   "outputs": [],
   "source": [
    "soft_ypred = vc_soft.predict(intermediate_test_output)"
   ]
  },
  {
   "cell_type": "code",
   "execution_count": 138,
   "metadata": {},
   "outputs": [
    {
     "data": {
      "text/plain": [
       "array([[ 976,    0,    0,    0,    0,    0,    1,    1,    2,    0],\n",
       "       [   0, 1130,    1,    0,    0,    1,    2,    0,    1,    0],\n",
       "       [   0,    2, 1024,    0,    0,    0,    1,    4,    1,    0],\n",
       "       [   0,    0,    3, 1000,    0,    2,    0,    2,    2,    1],\n",
       "       [   0,    0,    0,    0,  977,    0,    2,    0,    0,    3],\n",
       "       [   0,    0,    0,    4,    0,  886,    1,    1,    0,    0],\n",
       "       [   4,    3,    0,    0,    1,    3,  947,    0,    0,    0],\n",
       "       [   0,    3,    5,    0,    0,    0,    0, 1019,    0,    1],\n",
       "       [   1,    0,    3,    1,    1,    2,    1,    1,  961,    3],\n",
       "       [   3,    1,    0,    2,    7,    5,    0,    7,    0,  984]],\n",
       "      dtype=int64)"
      ]
     },
     "execution_count": 138,
     "metadata": {},
     "output_type": "execute_result"
    }
   ],
   "source": [
    "confusion_matrix(ytest, soft_ypred)"
   ]
  },
  {
   "cell_type": "markdown",
   "metadata": {},
   "source": [
    "## Comparison"
   ]
  },
  {
   "cell_type": "markdown",
   "metadata": {},
   "source": [
    "When large amount of data is available, multi-layered deep learning models always have an upper hand over the traditional single layered machine learning models. So, for our problem statement, I started with Artificial Neural Networks.\n",
    "\n",
    "Using ANN, I was able to achive 98.07% accuracy on test dataset. But in ANN, the complete input was given as input to the hidden layers. When compared to ANN, CNN had a better approach.   \n",
    "\n",
    "CNN applies the convolution with a learnable filter (a.k.a. kernel). As a result the network learns the patterns in the images: edges, corners, arcs, then more complex figures. Convolutional neural network may contain other layers as well, commonly pooling and dense layers and this gave me the best result with 99.3% accuracy on test dataset.\n",
    "\n",
    "Although, XGBoost isn't very good with images, it gave a decent result of 97.8% accuracy on test dataset. But, it took atleast 30-40 mins to do the computation. Therefore, to make it better, a hybrid model, CNN-XGBoost was implemented. Feature extraction is an important aspect while working with images. So, the intermediate result from the CNN was given as input to the XGBoost model. This reduced the computation time to 10 mins, as well as increased the accuracy to 99.16%.\n",
    "\n",
    "Ensemble learning method took almost two hours to do the computation of both hard voting & soft voting classifiers, and the results weren't very great. More over, it took time even to do the prediction. (In general, when compared to machine learning models, deep learning models are able to predict faster, even though they take time to train.) To tackle this issue, again a hybrid methods was used. The intermediate result from the CNN was given as input to the Ensemble learning model, and this resulted in a better accuracy of 99.24% for hard voting classifier and 99.04% for soft voting classifier, while reducing the computation time to less than 30 mins."
   ]
  },
  {
   "cell_type": "markdown",
   "metadata": {},
   "source": [
    "## Conclusions and Perspectives:"
   ]
  },
  {
   "cell_type": "markdown",
   "metadata": {},
   "source": [
    "Only deep learning methods are capable of absorbing huge amounts of training data, without any saturation in performance. So when we don't have large amounts of training examples, i.e., in the 100k or 1000k range, alternatives to deep learning methods are superior in performance. \n",
    "\n",
    "In some cases, we might even have big data available, but the function that we are trying to model might be so simple, that a small subset of that data is enough to learn it - here computational considerations + experimental cycle times might cause us to prefer XGBoost kind of models. XGBoost gives superior accuracy on many problems and has nice computational characteristics, but it's not so much greater than many other traditional methods like kernel SVMs or random forests, as deep learning methods are. \n",
    "\n",
    "Ensemble learning is a kind of bagging technique. If we have models with high variance, then we are likely to benefit from using bagging. But incase of bias, it's better to use boosting.\n",
    "\n",
    "So it's always better to choose a model / stratergy depending on the data and the problem at hand. In case of image based problems, I would always give a thought about Convolutional Neural Networks and might prefer it."
   ]
  }
 ],
 "metadata": {
  "kernelspec": {
   "display_name": "Python 3",
   "language": "python",
   "name": "python3"
  },
  "language_info": {
   "codemirror_mode": {
    "name": "ipython",
    "version": 3
   },
   "file_extension": ".py",
   "mimetype": "text/x-python",
   "name": "python",
   "nbconvert_exporter": "python",
   "pygments_lexer": "ipython3",
   "version": "3.7.1"
  }
 },
 "nbformat": 4,
 "nbformat_minor": 4
}
